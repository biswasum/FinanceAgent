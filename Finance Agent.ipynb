{
 "cells": [
  {
   "cell_type": "code",
   "execution_count": 1,
   "id": "162104c9-a708-4e3d-854a-45fdc53dff66",
   "metadata": {},
   "outputs": [
    {
     "data": {
      "text/plain": [
       "True"
      ]
     },
     "execution_count": 1,
     "metadata": {},
     "output_type": "execute_result"
    }
   ],
   "source": [
    "import dotenv\n",
    "\n",
    "dotenv.load_dotenv(dotenv.find_dotenv())"
   ]
  },
  {
   "cell_type": "code",
   "execution_count": null,
   "id": "087d336d-08c6-4c8a-acb6-8e67e54fbb8d",
   "metadata": {},
   "outputs": [],
   "source": [
    "#GROQ_API_KEY=\"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\""
   ]
  },
  {
   "cell_type": "code",
   "execution_count": 2,
   "id": "cd54ccc0-81e4-4766-8bab-66d8884afa20",
   "metadata": {},
   "outputs": [
    {
     "name": "stdout",
     "output_type": "stream",
     "text": [
      "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\n"
     ]
    }
   ],
   "source": [
    "import os\n",
    "\n",
    "# Set the environment variable\n",
    "os.environ[\"GROQ_API_KEY\"] = \"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\"\n",
    "\n",
    "# Access it\n",
    "groq_api_key = os.environ[\"GROQ_API_KEY\"]\n",
    "print(groq_api_key)"
   ]
  },
  {
   "cell_type": "code",
   "execution_count": null,
   "id": "500909fc-14a0-4ecb-aaba-851a0992a45e",
   "metadata": {},
   "outputs": [],
   "source": [
    "#!pip install yfinance\n",
    "#! pip install langchain_groq\n",
    "#! pip install  langchain-core 0.3.5\n",
    "#!pip install openai\n",
    "!pip install pydantic"
   ]
  },
  {
   "cell_type": "code",
   "execution_count": 3,
   "id": "77dbf962-8302-4d9e-8cbe-a1af88724132",
   "metadata": {},
   "outputs": [
    {
     "data": {
      "text/plain": [
       "'0.2.43'"
      ]
     },
     "execution_count": 3,
     "metadata": {},
     "output_type": "execute_result"
    }
   ],
   "source": [
    "import yfinance as yf\n",
    "\n",
    "yf.__version__"
   ]
  },
  {
   "cell_type": "code",
   "execution_count": 4,
   "id": "2097093a-b996-4372-ad9f-c24cb1ef4ff7",
   "metadata": {},
   "outputs": [
    {
     "data": {
      "text/plain": [
       "ChatGroq(client=<groq.resources.chat.completions.Completions object at 0x000001C42C85F150>, async_client=<groq.resources.chat.completions.AsyncCompletions object at 0x000001C42CA8ABD0>, model_name='llama-3.1-70b-versatile', model_kwargs={}, groq_api_key=SecretStr('**********'))"
      ]
     },
     "execution_count": 4,
     "metadata": {},
     "output_type": "execute_result"
    }
   ],
   "source": [
    "from langchain_groq import ChatGroq\n",
    "\n",
    "llama3 = ChatGroq(api_key=groq_api_key, model=\"llama-3.1-70b-versatile\")\n",
    "\n",
    "llama3"
   ]
  },
  {
   "cell_type": "code",
   "execution_count": 5,
   "id": "03faed9a-c173-40b8-8a96-d68ea94224d5",
   "metadata": {},
   "outputs": [
    {
     "data": {
      "text/plain": [
       "AIMessage(content=\"I'm just a language model, so I don't have feelings or emotions like humans do, but I'm functioning properly and ready to help you with any questions or topics you'd like to discuss. How about you? How's your day going?\", additional_kwargs={}, response_metadata={'token_usage': {'completion_tokens': 51, 'prompt_tokens': 41, 'total_tokens': 92, 'completion_time': 0.204, 'prompt_time': 0.010333805, 'queue_time': 0.101351944, 'total_time': 0.214333805}, 'model_name': 'llama-3.1-70b-versatile', 'system_fingerprint': 'fp_5c5d1b5cfb', 'finish_reason': 'stop', 'logprobs': None}, id='run-b9633a41-cac4-473a-90da-c4992861f984-0', usage_metadata={'input_tokens': 41, 'output_tokens': 51, 'total_tokens': 92})"
      ]
     },
     "execution_count": 5,
     "metadata": {},
     "output_type": "execute_result"
    }
   ],
   "source": [
    "llama3.invoke(\"Hello, How are you?\")"
   ]
  },
  {
   "cell_type": "code",
   "execution_count": 6,
   "id": "d2036d52-9299-4d93-8612-d3f7fa044b34",
   "metadata": {},
   "outputs": [],
   "source": [
    "from langchain_core.tools import tool, StructuredTool\n",
    "import yfinance as yf\n",
    "\n",
    "@tool\n",
    "def company_address(ticker: str)-> str:\n",
    "    \"\"\"\n",
    "    Returns company address for input ticker.    \n",
    "    e.g. company_address: AAPL\n",
    "    Returns company address for ticker AAPL which is stock ticker for Apple Inc.\n",
    "    \"\"\"\n",
    "    ticker_obj = yf.Ticker(ticker)\n",
    "    info = ticker_obj.get_info()\n",
    "    \n",
    "    return \" \".join([info[key] for key in [\"address1\", \"city\", \"state\", \"zip\", \"country\"]])\n",
    "\n",
    "@tool\n",
    "def fulltime_employees(ticker: str)-> int:\n",
    "    \"\"\"\n",
    "    Returns fulltime employees count for input ticker.\n",
    "    e.g. fulltime_employees: MSFT\n",
    "    Returns fulltime employees count for ticker MSFT which is stock ticker for Microsoft.\n",
    "    \"\"\"\n",
    "    ticker_obj = yf.Ticker(ticker)\n",
    "    info = ticker_obj.get_info()\n",
    "    \n",
    "    return info[\"fullTimeEmployees\"]\n",
    "\n",
    "@tool\n",
    "def last_close_price(ticker: str)-> float:\n",
    "    \"\"\"\n",
    "    Returns last close price for input ticker.\n",
    "    e.g. last_close_price: MSFT\n",
    "    Returns latest close price for ticker MSFT which is stock ticker for Microsoft.\n",
    "    \"\"\"\n",
    "    ticker_obj = yf.Ticker(ticker)\n",
    "    info = ticker_obj.get_info()\n",
    "    \n",
    "    return info[\"previousClose\"]\n",
    "\n",
    "@tool\n",
    "def EBITDA(ticker: str)-> float:\n",
    "    \"\"\"\n",
    "    Returns EBITDA for input ticker.\n",
    "    e.g. EBITDA: AAPL\n",
    "    Returns EBITDA for ticker AAPL which is stock ticker for Apple.\n",
    "    \"\"\"\n",
    "    ticker_obj = yf.Ticker(ticker)\n",
    "    info = ticker_obj.get_info()\n",
    "    \n",
    "    return info[\"ebitda\"]\n",
    "\n",
    "@tool\n",
    "def total_debt(ticker: str)-> float:\n",
    "    \"\"\"\n",
    "    Returns total debt for input ticker.\n",
    "    e.g. total_debt: AAPL\n",
    "    Returns total debt for ticker AAPL which is stock ticker for Apple.\n",
    "    \"\"\"\n",
    "    ticker_obj = yf.Ticker(ticker)\n",
    "    info = ticker_obj.get_info()\n",
    "    \n",
    "    return info[\"totalDebt\"]\n",
    "\n",
    "@tool\n",
    "def total_revenue(ticker: str)-> float:\n",
    "    \"\"\"\n",
    "    Returns total revenue for input ticker.\n",
    "    e.g. total_revenue: MSFT\n",
    "    Returns total revenue for ticker MSFT which is stock ticker for Microsoft.\n",
    "    \"\"\"\n",
    "    ticker_obj = yf.Ticker(ticker)\n",
    "    info = ticker_obj.get_info()\n",
    "    \n",
    "    return info[\"totalRevenue\"]\n",
    "\n",
    "@tool\n",
    "def debt_to_equity_ratio(ticker: str)-> float:\n",
    "    \"\"\"\n",
    "    Returns debt to equity ratio for input ticker.\n",
    "    e.g. debt_to_equity_ratio: AAPL\n",
    "    Returns debt to equity ratio for ticker AAPL which is stock ticker for Apple.\n",
    "    \"\"\"\n",
    "    ticker_obj = yf.Ticker(ticker)\n",
    "    info = ticker_obj.get_info()\n",
    "    \n",
    "    return info[\"debtToEquity\"]\n",
    "\n",
    "tools = [\n",
    "    company_address,\n",
    "    fulltime_employees,\n",
    "    last_close_price,\n",
    "    EBITDA,\n",
    "    total_debt,\n",
    "    total_revenue,\n",
    "    debt_to_equity_ratio\n",
    "]"
   ]
  },
  {
   "cell_type": "code",
   "execution_count": 7,
   "id": "72b3e502-53d1-4712-89d9-832a16e0ebfd",
   "metadata": {},
   "outputs": [],
   "source": [
    "llama3_with_tools = llama3.bind_tools(tools, tool_choice=\"auto\") \n"
   ]
  },
  {
   "cell_type": "code",
   "execution_count": 8,
   "id": "5139cc87-00ff-4258-afd8-e577342f8ffe",
   "metadata": {},
   "outputs": [
    {
     "name": "stdout",
     "output_type": "stream",
     "text": [
      "I'm ready to help with stock information. Which ticker would you like to know more about?\n",
      "[]\n"
     ]
    }
   ],
   "source": [
    "ai_msg = llama3_with_tools.invoke(\"Whatzzzz up?\")\n",
    "\n",
    "print(ai_msg.content)\n",
    "print(ai_msg.tool_calls)"
   ]
  },
  {
   "cell_type": "code",
   "execution_count": 9,
   "id": "5cc9f34f-71e1-4516-94d4-f9b06329f19b",
   "metadata": {},
   "outputs": [
    {
     "name": "stdout",
     "output_type": "stream",
     "text": [
      "\n",
      "[{'name': 'EBITDA', 'args': {'ticker': 'MSFT'}, 'id': 'call_2xf3', 'type': 'tool_call'}]\n"
     ]
    }
   ],
   "source": [
    "ai_msg = llama3_with_tools.invoke(\"Whats EBITDA of Microsoft?\")\n",
    "\n",
    "print(ai_msg.content)\n",
    "print(ai_msg.tool_calls)"
   ]
  },
  {
   "cell_type": "code",
   "execution_count": 10,
   "id": "8d9040da-2f17-4f1b-ac93-3e8d38887b42",
   "metadata": {},
   "outputs": [
    {
     "data": {
      "text/plain": [
       "129433001984"
      ]
     },
     "execution_count": 10,
     "metadata": {},
     "output_type": "execute_result"
    }
   ],
   "source": [
    "EBITDA.invoke(ai_msg.tool_calls[0][\"args\"])"
   ]
  },
  {
   "cell_type": "code",
   "execution_count": 11,
   "id": "a33f2ca5-8ec6-4178-978e-496b69233cc4",
   "metadata": {},
   "outputs": [],
   "source": [
    "from langgraph.graph import StateGraph, END\n",
    "from typing import TypedDict, Annotated\n",
    "import operator\n",
    "from langchain_core.messages import AnyMessage, SystemMessage, HumanMessage, ToolMessage\n",
    "\n",
    "class AgentState(TypedDict): ## Agent's current state, it can be history of messsages and other attributes you want to maintain\n",
    "    messages: Annotated[list[AnyMessage], operator.add]   ## {'messages': []}\n",
    "        \n",
    "class ReActAgent:\n",
    "    \n",
    "    def __init__(self, model, tools, system=\"\"):\n",
    "        self.system = system\n",
    "        self.tools = {t.name: t for t in tools}\n",
    "        self.model = model.bind_tools(tools, tool_choice=\"auto\")\n",
    "        \n",
    "        graph = StateGraph(AgentState)  ## Current Agent State will be available at each node of Graph.\n",
    "        graph.add_node(\"llama3\", self.call_llm)\n",
    "        graph.add_node(\"action\", self.take_action)\n",
    "        graph.add_conditional_edges(\n",
    "            \"llama3\",\n",
    "            self.exists_action,\n",
    "            {True: \"action\", False: END}\n",
    "        )\n",
    "        graph.add_edge(\"action\", \"llama3\")\n",
    "        graph.set_entry_point(\"llama3\")\n",
    "        self.graph = graph.compile()\n",
    "        \n",
    "    def exists_action(self, state: AgentState):\n",
    "        result = state['messages'][-1]\n",
    "        return len(result.tool_calls) > 0\n",
    "\n",
    "    def call_llm(self, state: AgentState):\n",
    "        messages = state['messages']\n",
    "        if self.system:\n",
    "            messages = [SystemMessage(content=self.system)] + messages\n",
    "        message = self.model.invoke(messages)\n",
    "        return {'messages': [message]} ## AIMessage\n",
    "\n",
    "    def take_action(self, state: AgentState):\n",
    "        tool_calls = state['messages'][-1].tool_calls\n",
    "        results = []\n",
    "        for t in tool_calls:\n",
    "            print(f\"Calling Tool: {t}\")\n",
    "            if not t['name'] in self.tools:  # check for bad tool name from LLM\n",
    "                print(f\"\\n Tool: {t} does not exist.\")\n",
    "                result = \"Incorrect Tool Name, Please Retry and Select tool from List of Available tools.\"  # instruct LLM to retry if bad\n",
    "            else:\n",
    "                result = self.tools[t['name']].invoke(t['args'])\n",
    "            results.append(ToolMessage(tool_call_id=t['id'], name=t['name'], content=str(result)))\n",
    "        print(\"Tools Execution Complete. Back to the model!\")\n",
    "        return {'messages': results} ## [ToolMessage, ToolMessage, ...]"
   ]
  },
  {
   "cell_type": "code",
   "execution_count": 12,
   "id": "ffe9b550-38e2-4f33-a033-ee85d93945a6",
   "metadata": {},
   "outputs": [],
   "source": [
    "prompt = \"\"\"\n",
    "You are a smart AI finance assistant. Use the list of available tools to answer questions if needed.\n",
    "You are allowed to make multiple calls (either together or in sequence).\n",
    "If you need to look up some information before asking a follow up question, you are allowed to do that!\n",
    "\"\"\"\n",
    "\n",
    "agent = ReActAgent(llama3, tools, system=prompt)"
   ]
  },
  {
   "cell_type": "code",
   "execution_count": 13,
   "id": "9be60eb7-4611-4b12-af14-6757cd8a0d70",
   "metadata": {},
   "outputs": [
    {
     "name": "stdout",
     "output_type": "stream",
     "text": [
      "Collecting pygraphviz\n",
      "  Using cached pygraphviz-1.13.tar.gz (104 kB)\n",
      "  Installing build dependencies: started\n",
      "  Installing build dependencies: finished with status 'done'\n",
      "  Getting requirements to build wheel: started\n",
      "  Getting requirements to build wheel: finished with status 'done'\n",
      "  Preparing metadata (pyproject.toml): started\n",
      "  Preparing metadata (pyproject.toml): finished with status 'done'\n",
      "Building wheels for collected packages: pygraphviz\n",
      "  Building wheel for pygraphviz (pyproject.toml): started\n",
      "  Building wheel for pygraphviz (pyproject.toml): finished with status 'error'\n",
      "Failed to build pygraphviz\n"
     ]
    },
    {
     "name": "stderr",
     "output_type": "stream",
     "text": [
      "  error: subprocess-exited-with-error\n",
      "  \n",
      "  Building wheel for pygraphviz (pyproject.toml) did not run successfully.\n",
      "  exit code: 1\n",
      "  \n",
      "  [54 lines of output]\n",
      "  running bdist_wheel\n",
      "  running build\n",
      "  running build_py\n",
      "  creating build\\lib.win-amd64-cpython-311\\pygraphviz\n",
      "  copying pygraphviz\\agraph.py -> build\\lib.win-amd64-cpython-311\\pygraphviz\n",
      "  copying pygraphviz\\graphviz.py -> build\\lib.win-amd64-cpython-311\\pygraphviz\n",
      "  copying pygraphviz\\scraper.py -> build\\lib.win-amd64-cpython-311\\pygraphviz\n",
      "  copying pygraphviz\\testing.py -> build\\lib.win-amd64-cpython-311\\pygraphviz\n",
      "  copying pygraphviz\\__init__.py -> build\\lib.win-amd64-cpython-311\\pygraphviz\n",
      "  creating build\\lib.win-amd64-cpython-311\\pygraphviz\\tests\n",
      "  copying pygraphviz\\tests\\test_attribute_defaults.py -> build\\lib.win-amd64-cpython-311\\pygraphviz\\tests\n",
      "  copying pygraphviz\\tests\\test_clear.py -> build\\lib.win-amd64-cpython-311\\pygraphviz\\tests\n",
      "  copying pygraphviz\\tests\\test_close.py -> build\\lib.win-amd64-cpython-311\\pygraphviz\\tests\n",
      "  copying pygraphviz\\tests\\test_drawing.py -> build\\lib.win-amd64-cpython-311\\pygraphviz\\tests\n",
      "  copying pygraphviz\\tests\\test_edge_attributes.py -> build\\lib.win-amd64-cpython-311\\pygraphviz\\tests\n",
      "  copying pygraphviz\\tests\\test_graph.py -> build\\lib.win-amd64-cpython-311\\pygraphviz\\tests\n",
      "  copying pygraphviz\\tests\\test_html.py -> build\\lib.win-amd64-cpython-311\\pygraphviz\\tests\n",
      "  copying pygraphviz\\tests\\test_layout.py -> build\\lib.win-amd64-cpython-311\\pygraphviz\\tests\n",
      "  copying pygraphviz\\tests\\test_node_attributes.py -> build\\lib.win-amd64-cpython-311\\pygraphviz\\tests\n",
      "  copying pygraphviz\\tests\\test_readwrite.py -> build\\lib.win-amd64-cpython-311\\pygraphviz\\tests\n",
      "  copying pygraphviz\\tests\\test_repr_mimebundle.py -> build\\lib.win-amd64-cpython-311\\pygraphviz\\tests\n",
      "  copying pygraphviz\\tests\\test_scraper.py -> build\\lib.win-amd64-cpython-311\\pygraphviz\\tests\n",
      "  copying pygraphviz\\tests\\test_string.py -> build\\lib.win-amd64-cpython-311\\pygraphviz\\tests\n",
      "  copying pygraphviz\\tests\\test_subgraph.py -> build\\lib.win-amd64-cpython-311\\pygraphviz\\tests\n",
      "  copying pygraphviz\\tests\\test_unicode.py -> build\\lib.win-amd64-cpython-311\\pygraphviz\\tests\n",
      "  copying pygraphviz\\tests\\__init__.py -> build\\lib.win-amd64-cpython-311\\pygraphviz\\tests\n",
      "  running egg_info\n",
      "  writing pygraphviz.egg-info\\PKG-INFO\n",
      "  writing dependency_links to pygraphviz.egg-info\\dependency_links.txt\n",
      "  writing top-level names to pygraphviz.egg-info\\top_level.txt\n",
      "  reading manifest file 'pygraphviz.egg-info\\SOURCES.txt'\n",
      "  reading manifest template 'MANIFEST.in'\n",
      "  warning: no files found matching '*.swg'\n",
      "  warning: no files found matching '*.png' under directory 'doc'\n",
      "  warning: no files found matching '*.html' under directory 'doc'\n",
      "  warning: no files found matching '*.txt' under directory 'doc'\n",
      "  warning: no files found matching '*.css' under directory 'doc'\n",
      "  warning: no previously-included files matching '*~' found anywhere in distribution\n",
      "  warning: no previously-included files matching '*.pyc' found anywhere in distribution\n",
      "  warning: no previously-included files matching '.svn' found anywhere in distribution\n",
      "  no previously-included directories found matching 'doc\\build'\n",
      "  adding license file 'LICENSE'\n",
      "  writing manifest file 'pygraphviz.egg-info\\SOURCES.txt'\n",
      "  copying pygraphviz\\graphviz.i -> build\\lib.win-amd64-cpython-311\\pygraphviz\n",
      "  copying pygraphviz\\graphviz_wrap.c -> build\\lib.win-amd64-cpython-311\\pygraphviz\n",
      "  running build_ext\n",
      "  building 'pygraphviz._graphviz' extension\n",
      "  creating build\\temp.win-amd64-cpython-311\\Release\\pygraphviz\n",
      "  \"C:\\Program Files (x86)\\Microsoft Visual Studio\\2022\\BuildTools\\VC\\Tools\\MSVC\\14.41.34120\\bin\\HostX86\\x64\\cl.exe\" /c /nologo /O2 /W3 /GL /DNDEBUG /MD -DSWIG_PYTHON_STRICT_BYTE_CHAR -DGVDLL -IC:\\Users\\BISWA\\Anaconda3\\include -IC:\\Users\\BISWA\\Anaconda3\\Include \"-IC:\\Program Files (x86)\\Microsoft Visual Studio\\2022\\BuildTools\\VC\\Tools\\MSVC\\14.41.34120\\include\" \"-IC:\\Program Files (x86)\\Microsoft Visual Studio\\2022\\BuildTools\\VC\\Auxiliary\\VS\\include\" \"-IC:\\Program Files (x86)\\Windows Kits\\10\\include\\10.0.22621.0\\ucrt\" \"-IC:\\Program Files (x86)\\Windows Kits\\10\\\\include\\10.0.22621.0\\\\um\" \"-IC:\\Program Files (x86)\\Windows Kits\\10\\\\include\\10.0.22621.0\\\\shared\" \"-IC:\\Program Files (x86)\\Windows Kits\\10\\\\include\\10.0.22621.0\\\\winrt\" \"-IC:\\Program Files (x86)\\Windows Kits\\10\\\\include\\10.0.22621.0\\\\cppwinrt\" \"-IC:\\Program Files (x86)\\Windows Kits\\NETFXSDK\\4.8\\include\\um\" /Tcpygraphviz/graphviz_wrap.c /Fobuild\\temp.win-amd64-cpython-311\\Release\\pygraphviz/graphviz_wrap.obj\n",
      "  graphviz_wrap.c\n",
      "  pygraphviz/graphviz_wrap.c(9): warning C4005: 'SWIG_PYTHON_STRICT_BYTE_CHAR': macro redefinition\n",
      "  pygraphviz/graphviz_wrap.c(9): note: 'SWIG_PYTHON_STRICT_BYTE_CHAR' previously declared on the command line\n",
      "  pygraphviz/graphviz_wrap.c(3023): fatal error C1083: Cannot open include file: 'graphviz/cgraph.h': No such file or directory\n",
      "  error: command 'C:\\\\Program Files (x86)\\\\Microsoft Visual Studio\\\\2022\\\\BuildTools\\\\VC\\\\Tools\\\\MSVC\\\\14.41.34120\\\\bin\\\\HostX86\\\\x64\\\\cl.exe' failed with exit code 2\n",
      "  [end of output]\n",
      "  \n",
      "  note: This error originates from a subprocess, and is likely not a problem with pip.\n",
      "  ERROR: Failed building wheel for pygraphviz\n",
      "ERROR: Could not build wheels for pygraphviz, which is required to install pyproject.toml-based projects\n"
     ]
    }
   ],
   "source": [
    "!pip install  pygraphviz"
   ]
  },
  {
   "cell_type": "code",
   "execution_count": 14,
   "id": "30bb3d7c-ed23-4173-b37c-62e2a400f54f",
   "metadata": {},
   "outputs": [
    {
     "name": "stdout",
     "output_type": "stream",
     "text": [
      "Calling Tool: {'name': 'total_revenue', 'args': {'ticker': 'NVDA'}, 'id': 'call_pfy2', 'type': 'tool_call'}\n",
      "Tools Execution Complete. Back to the model!\n"
     ]
    }
   ],
   "source": [
    "messages = [HumanMessage(content=\"What is total revenue of nvidia?\")]\n",
    "\n",
    "result = agent.graph.invoke({\"messages\": messages})"
   ]
  },
  {
   "cell_type": "code",
   "execution_count": 17,
   "id": "fc8ffd30-ef50-4917-81b1-161704dd18fe",
   "metadata": {},
   "outputs": [
    {
     "data": {
      "text/plain": [
       "'The total revenue of NVIDIA is $96.31 billion.'"
      ]
     },
     "execution_count": 17,
     "metadata": {},
     "output_type": "execute_result"
    }
   ],
   "source": [
    "result['messages'][-1].content"
   ]
  },
  {
   "cell_type": "code",
   "execution_count": 18,
   "id": "731ec9fa-1f2e-4e04-b95f-1b1981672820",
   "metadata": {},
   "outputs": [
    {
     "name": "stdout",
     "output_type": "stream",
     "text": [
      "Calling Tool: {'name': 'total_revenue', 'args': {'ticker': 'AAPL'}, 'id': 'call_81xb', 'type': 'tool_call'}\n",
      "Calling Tool: {'name': 'total_revenue', 'args': {'ticker': 'NVDA'}, 'id': 'call_9pw4', 'type': 'tool_call'}\n",
      "Tools Execution Complete. Back to the model!\n"
     ]
    }
   ],
   "source": [
    "messages = [HumanMessage(content=\"Compare total revenue of Apple and Nvidia.\")]\n",
    "\n",
    "result = agent.graph.invoke({\"messages\": messages})"
   ]
  },
  {
   "cell_type": "code",
   "execution_count": 19,
   "id": "e0e123ad-efe4-4ba4-b70b-a11e4ab453f8",
   "metadata": {},
   "outputs": [
    {
     "data": {
      "text/plain": [
       "'The total revenue of Apple (AAPL) is $385,603,010,560, and the total revenue of Nvidia (NVDA) is $96,307,003,392.'"
      ]
     },
     "execution_count": 19,
     "metadata": {},
     "output_type": "execute_result"
    }
   ],
   "source": [
    "result['messages'][-1].content"
   ]
  },
  {
   "cell_type": "code",
   "execution_count": 66,
   "id": "fc473ed4-2463-4108-a530-a680eb9ba8e8",
   "metadata": {},
   "outputs": [
    {
     "data": {
      "text/plain": [
       "'The total revenue of Apple is 385.6 billion USD and the total revenue of Nvidia is 96.3 billion USD.'"
      ]
     },
     "execution_count": 66,
     "metadata": {},
     "output_type": "execute_result"
    }
   ],
   "source": [
    "result['messages'][-1].content"
   ]
  },
  {
   "cell_type": "code",
   "execution_count": 20,
   "id": "235dbcb7-0dc7-4775-8072-28b9c4dd3266",
   "metadata": {},
   "outputs": [
    {
     "name": "stdout",
     "output_type": "stream",
     "text": [
      "Calling Tool: {'name': 'last_close_price', 'args': {'ticker': 'NVDA'}, 'id': 'call_2tvt', 'type': 'tool_call'}\n",
      "Tools Execution Complete. Back to the model!\n"
     ]
    }
   ],
   "source": [
    "messages = [HumanMessage(content=\"What is last closing price of nvidia?\")]\n",
    "\n",
    "result = agent.graph.invoke({\"messages\": messages})"
   ]
  },
  {
   "cell_type": "code",
   "execution_count": 21,
   "id": "e1fb5d57-44c3-42ef-a19c-15076aaa9da0",
   "metadata": {},
   "outputs": [
    {
     "data": {
      "text/plain": [
       "'The last closing price of NVIDIA is $116.0.'"
      ]
     },
     "execution_count": 21,
     "metadata": {},
     "output_type": "execute_result"
    }
   ],
   "source": [
    "result['messages'][-1].content"
   ]
  },
  {
   "cell_type": "code",
   "execution_count": 45,
   "id": "c8dbbc08-1a8f-491c-a319-79c6d32913d5",
   "metadata": {},
   "outputs": [],
   "source": [
    "!pip install -U -q huggingface_hub"
   ]
  },
  {
   "cell_type": "code",
   "execution_count": 24,
   "id": "12fb54ff-a942-490d-9a59-cdfb33eaae5b",
   "metadata": {},
   "outputs": [
    {
     "data": {
      "application/vnd.jupyter.widget-view+json": {
       "model_id": "2ea99fd7af4b4ef895d19e4f521c8aa4",
       "version_major": 2,
       "version_minor": 0
      },
      "text/plain": [
       "VBox(children=(HTML(value='<center> <img\\nsrc=https://huggingface.co/front/assets/huggingface_logo-noborder.sv…"
      ]
     },
     "metadata": {},
     "output_type": "display_data"
    }
   ],
   "source": [
    "from huggingface_hub import notebook_login\n",
    "\n",
    "notebook_login()"
   ]
  },
  {
   "cell_type": "code",
   "execution_count": 22,
   "id": "1f74b0b8-e566-4f55-aef2-a6c0a36f6125",
   "metadata": {},
   "outputs": [
    {
     "name": "stderr",
     "output_type": "stream",
     "text": [
      "No files have been modified since last commit. Skipping to prevent empty commit.\n"
     ]
    },
    {
     "data": {
      "text/plain": [
       "CommitInfo(commit_url='https://huggingface.co/spaces/biswadas/finance_Agent/commit/2fef284aed3eed58019d7fa8f7fe2b3ccc53b738', commit_message='Upload folder using huggingface_hub', commit_description='', oid='2fef284aed3eed58019d7fa8f7fe2b3ccc53b738', pr_url=None, repo_url=RepoUrl('https://huggingface.co/spaces/biswadas/finance_Agent', endpoint='https://huggingface.co', repo_type='space', repo_id='biswadas/finance_Agent'), pr_revision=None, pr_num=None)"
      ]
     },
     "execution_count": 22,
     "metadata": {},
     "output_type": "execute_result"
    }
   ],
   "source": [
    "from huggingface_hub import HfApi\n",
    "\n",
    "HF_USERNAME = \"biswadas\"\n",
    "HF_REPOSITORY_NAME = \"finance_Agent\"\n",
    "\n",
    "api = HfApi()\n",
    "\n",
    "api.upload_folder(\n",
    "    folder_path = \"Finance\",\n",
    "    path_in_repo = \"FinAgent\",\n",
    "    repo_id = f\"{HF_USERNAME}/{HF_REPOSITORY_NAME}\",\n",
    "    repo_type=\"space\"\n",
    ")"
   ]
  },
  {
   "cell_type": "code",
   "execution_count": 32,
   "id": "23485546-16dc-4154-8085-d162674829ad",
   "metadata": {},
   "outputs": [],
   "source": [
    "from openai import AzureOpenAI\n",
    "import json\n",
    "with open('config1.json', 'r') as az_creds:\n",
    "    data = az_creds.read()\n",
    "creds = json.loads(data)\n",
    "client = AzureOpenAI(\n",
    "    azure_endpoint=creds[\"AZURE_OPENAI_ENDPOINT\"],\n",
    "    api_key=creds[\"AZURE_OPENAI_KEY\"],\n",
    "    api_version=creds[\"AZURE_OPENAI_APIVERSION\"]\n",
    ")\n",
    "deployment_name = creds[\"CHATGPT_MODEL\"]"
   ]
  },
  {
   "cell_type": "code",
   "execution_count": 33,
   "id": "0c997d33-80cb-4107-b239-75237cfdf303",
   "metadata": {},
   "outputs": [],
   "source": [
    "import streamlit as st\n",
    "import openai\n",
    "\n",
    "# Set up the OpenAI API key (you can load from environment variables or a config file)\n",
    "#openai.api_key = \"YOUR_OPENAI_API_KEY\"\n",
    "api_key=creds[\"AZURE_OPENAI_KEY\"]\n",
    "# Streamlit app title and description\n",
    "st.title(\"Q&A Bot with Streamlit\")\n",
    "st.write(\"Ask any question and get an answer from the Q&A bot!\")\n",
    "\n",
    "# Function to generate the answer from OpenAI's GPT model\n",
    "def generate_answer(question):\n",
    "    try:\n",
    "        response = openai.Completion.create(\n",
    "            engine=\"gpt4-o-mini\",  # You can use other engines like \"gpt-4\" if available\n",
    "            prompt=f\"Q: {question}\\nA:\",\n",
    "            max_tokens=150,\n",
    "            n=1,\n",
    "            stop=None,\n",
    "            temperature=0.7,\n",
    "        )\n",
    "        answer = response.choices[0].text.strip()\n",
    "        return answer\n",
    "    except Exception as e:\n",
    "        return f\"Error: {str(e)}\"\n",
    "\n",
    "# Text input for user's question\n",
    "question = st.text_input(\"Enter your question:\")\n",
    "\n",
    "# Button to submit the question\n",
    "if st.button(\"Ask\"):\n",
    "    if question:\n",
    "        with st.spinner(\"Thinking...\"):\n",
    "            answer = generate_answer(question)\n",
    "            st.success(answer)\n",
    "    else:\n",
    "        st.warning(\"Please enter a question!\")\n",
    "\n",
    "# Footer\n",
    "st.write(\"---\")\n",
    "st.write(\"Powered by OpenAI GPT and Streamlit.\")\n"
   ]
  },
  {
   "cell_type": "code",
   "execution_count": null,
   "id": "259cdb31-590c-4359-b856-e6c9f3804c81",
   "metadata": {},
   "outputs": [],
   "source": []
  }
 ],
 "metadata": {
  "kernelspec": {
   "display_name": "Python 3 (ipykernel)",
   "language": "python",
   "name": "python3"
  },
  "language_info": {
   "codemirror_mode": {
    "name": "ipython",
    "version": 3
   },
   "file_extension": ".py",
   "mimetype": "text/x-python",
   "name": "python",
   "nbconvert_exporter": "python",
   "pygments_lexer": "ipython3",
   "version": "3.11.7"
  }
 },
 "nbformat": 4,
 "nbformat_minor": 5
}
